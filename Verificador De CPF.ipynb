{
 "cells": [
  {
   "cell_type": "code",
   "execution_count": 1,
   "id": "ab350929",
   "metadata": {},
   "outputs": [],
   "source": [
    "import numpy as np\n",
    "import pandas as pd\n",
    "import time\n",
    "import re"
   ]
  },
  {
   "cell_type": "markdown",
   "id": "e7ace1e3",
   "metadata": {},
   "source": [
    "# Função Verificadora de CPF"
   ]
  },
  {
   "cell_type": "code",
   "execution_count": 2,
   "id": "7358e30c",
   "metadata": {},
   "outputs": [],
   "source": [
    "def validador_de_cpf(CPF):\n",
    "    ###Separar digitos do CPF\n",
    "    CPF =str(CPF)                                         #Transforma em uma string para poder acessar cada posição\n",
    "    CPF = re.sub(r'\\D', '', CPF)                          #Retira todos os caracteres que não são dígitos ('D') por vazio\n",
    "    cpf = np.arange(0, len(CPF))                          #Cria um vetor \n",
    "    for i in range(len(CPF)):                             #Adiciona cada dígito inteiro ao vetor criado\n",
    "        cpf[i] = int(CPF[i])\n",
    "        \n",
    "    ###Primeira Verificação\n",
    "    if len(cpf) !=11:                                     #Verifica se o CPF tem 11 dígitos\n",
    "        return False\n",
    "    \n",
    "    ###Obtenção do primeiro dígito verificador\n",
    "    peso1 = np.array([10, 9, 8, 7, 6, 5, 4, 3, 2])       #Pesos utilizados na verificação do primeiro dígito verificador\n",
    "    verificação = sum(cpf[0:9] * peso1)                  #Verificação: digitos do cpf multiplicados pelos pesos, seguido pela soma\n",
    "    \n",
    "    if verificação % 11 == 0:                            #Se resto da divisão por 11 for igual a 0, primeiro digito é igual a 0\n",
    "        digito1 = 0\n",
    "    else:                                                #Se for diferente de 0, primeiro digito é igual a 11 menos o resto da divisão\n",
    "        digito1 = 11 - (verificação % 11)\n",
    "    \n",
    "    ###Obtenção do segundo dígito verificador\n",
    "    peso2 = np.array([11, 10, 9, 8, 7, 6, 5, 4, 3, 2])  #Pesos utilizados na verificação do primeiro dígito verificador\n",
    "    verificação = sum(cpf[0:10] * peso2) \n",
    "                                              \n",
    "    digito2 = 11 - (verificação % 11)\n",
    "    \n",
    "    ###Verificação dos dois dígitos obtidos com os dois dígitos do CPF\n",
    "    if digito1 != cpf[9] or digito2 != cpf[10]:\n",
    "        return False\n",
    "    else:\n",
    "        return True"
   ]
  },
  {
   "cell_type": "markdown",
   "id": "e0a64f7f",
   "metadata": {},
   "source": [
    "# Função Otimizada"
   ]
  },
  {
   "cell_type": "code",
   "execution_count": 3,
   "id": "60fbf969",
   "metadata": {},
   "outputs": [],
   "source": [
    "def validador_de_cpf_otimizado(CPF):\n",
    "    cpf = np.array([int(i) for i in str(CPF) if i.isdigit()])       #Compreensão de lista para transformar a string do CPF em um array de inteiros, avaliando se todos os caracteres são números\n",
    "    \n",
    "    ###Primeira Verificação\n",
    "    if len(cpf) !=11:                                               #Verifica se o CPF tem 11 dígitos\n",
    "        return False\n",
    "    \n",
    "    ###Pesos\n",
    "    peso1 = np.array([10, 9, 8, 7, 6, 5, 4, 3, 2])\n",
    "    peso2 = np.array([11, 10, 9, 8, 7, 6, 5, 4, 3, 2])\n",
    "    \n",
    "    ##Obtenção do primeiro dígito\n",
    "    verificação = np.sum(cpf[:9] * peso1)\n",
    "    if verificação % 11 == 0:                                      #Se resto da divisão por 11 for igual a 0, primeiro digito é igual a 0\n",
    "        digito1 = 0\n",
    "    else:                                                          #Se for diferente de 0, primeiro digito é igual a 11 menos o resto da divisão\n",
    "        digito1 = 11 - (verificação % 11)\n",
    "        \n",
    "    ##Primeira comparação de dígitos                               #Realização da comparação do primeiro dígito obtido com o fornecido. Caso seja diferente, já finaliza a execução\n",
    "    if digito1 != cpf[9]:\n",
    "        return False\n",
    "    \n",
    "    ##Obtenção do segundo dígito\n",
    "    verificação = np.sum(cpf[:10] * peso2)                      \n",
    "    digito2 = 11 - (verificação % 11)\n",
    "    \n",
    "    ##Primeira comparação de dígitos\n",
    "    if digito2 != cpf[10]:\n",
    "        return False\n",
    "    else:\n",
    "        return True\n",
    "    "
   ]
  },
  {
   "cell_type": "markdown",
   "id": "390e4382",
   "metadata": {},
   "source": [
    "# Função para medir tempo de execução"
   ]
  },
  {
   "cell_type": "code",
   "execution_count": 7,
   "id": "edd4722f",
   "metadata": {},
   "outputs": [],
   "source": [
    "###Função Para medir tempo\n",
    "def medir_tempo(funcao, numeros):                                    #Tem como parâmetros a função a ser utilizada e o(s) CPF(s) a ser(em) validado(s) \n",
    "    tempos = []                                                      #Cria uma lista vazia para adicionar os tempos de execução\n",
    "    lista = []\n",
    "    for cpf in numeros:\n",
    "        inicio = time.time()                                         #Timer inicial\n",
    "        lista.append([cpf, funcao(cpf)])                             #Constroi a lista com os CPFs e as verificações\n",
    "        fim = time.time()                                            #Timer final\n",
    "        tempos.append(fim - inicio)                                  #Adiciona na lista de tempos a diferenta entre o timer final e inicial\n",
    "    CPF_dt = pd.DataFrame(lista, columns = ['CPF', 'Validação'])     #Cria um DataFrame para guardar o resultado da Verificação dos CPFs \n",
    "    \n",
    "    return np.mean(tempos), CPF_dt                                   #Retorna a média de tempos e o dataframe com as validações realizadas"
   ]
  },
  {
   "cell_type": "markdown",
   "id": "a8fa6cde",
   "metadata": {},
   "source": [
    "# Gerar números de 0 a 10_000_000"
   ]
  },
  {
   "cell_type": "code",
   "execution_count": 5,
   "id": "62dd17d6",
   "metadata": {},
   "outputs": [],
   "source": [
    "lista_cpfs = [str(i).zfill(11) for i in range(10_000_001)]      #Utiliza a função zfill para adicionar zeros a esquerda para completar os 11 números"
   ]
  },
  {
   "cell_type": "markdown",
   "id": "c554cdaf",
   "metadata": {},
   "source": [
    "# Comparação de desempenho baseada no tempo de execução"
   ]
  },
  {
   "cell_type": "code",
   "execution_count": 9,
   "id": "32a04bc8",
   "metadata": {},
   "outputs": [],
   "source": [
    "###Execução da função para medição de tempo e validação dos CPFs com a função original \n",
    "tempo_validador_de_cpf, validador_de_cpf_dt = medir_tempo(validador_de_cpf, lista_cpfs)"
   ]
  },
  {
   "cell_type": "code",
   "execution_count": 19,
   "id": "fb6708b9",
   "metadata": {
    "scrolled": true
   },
   "outputs": [
    {
     "data": {
      "text/html": [
       "<div>\n",
       "<style scoped>\n",
       "    .dataframe tbody tr th:only-of-type {\n",
       "        vertical-align: middle;\n",
       "    }\n",
       "\n",
       "    .dataframe tbody tr th {\n",
       "        vertical-align: top;\n",
       "    }\n",
       "\n",
       "    .dataframe thead th {\n",
       "        text-align: right;\n",
       "    }\n",
       "</style>\n",
       "<table border=\"1\" class=\"dataframe\">\n",
       "  <thead>\n",
       "    <tr style=\"text-align: right;\">\n",
       "      <th></th>\n",
       "      <th>CPF</th>\n",
       "      <th>Validação</th>\n",
       "    </tr>\n",
       "  </thead>\n",
       "  <tbody>\n",
       "    <tr>\n",
       "      <th>0</th>\n",
       "      <td>00000000000</td>\n",
       "      <td>False</td>\n",
       "    </tr>\n",
       "    <tr>\n",
       "      <th>1</th>\n",
       "      <td>00000000001</td>\n",
       "      <td>False</td>\n",
       "    </tr>\n",
       "    <tr>\n",
       "      <th>2</th>\n",
       "      <td>00000000002</td>\n",
       "      <td>False</td>\n",
       "    </tr>\n",
       "    <tr>\n",
       "      <th>3</th>\n",
       "      <td>00000000003</td>\n",
       "      <td>False</td>\n",
       "    </tr>\n",
       "    <tr>\n",
       "      <th>4</th>\n",
       "      <td>00000000004</td>\n",
       "      <td>False</td>\n",
       "    </tr>\n",
       "    <tr>\n",
       "      <th>...</th>\n",
       "      <td>...</td>\n",
       "      <td>...</td>\n",
       "    </tr>\n",
       "    <tr>\n",
       "      <th>9999996</th>\n",
       "      <td>00009999996</td>\n",
       "      <td>False</td>\n",
       "    </tr>\n",
       "    <tr>\n",
       "      <th>9999997</th>\n",
       "      <td>00009999997</td>\n",
       "      <td>False</td>\n",
       "    </tr>\n",
       "    <tr>\n",
       "      <th>9999998</th>\n",
       "      <td>00009999998</td>\n",
       "      <td>False</td>\n",
       "    </tr>\n",
       "    <tr>\n",
       "      <th>9999999</th>\n",
       "      <td>00009999999</td>\n",
       "      <td>False</td>\n",
       "    </tr>\n",
       "    <tr>\n",
       "      <th>10000000</th>\n",
       "      <td>00010000000</td>\n",
       "      <td>False</td>\n",
       "    </tr>\n",
       "  </tbody>\n",
       "</table>\n",
       "<p>10000001 rows × 2 columns</p>\n",
       "</div>"
      ],
      "text/plain": [
       "                  CPF  Validação\n",
       "0         00000000000      False\n",
       "1         00000000001      False\n",
       "2         00000000002      False\n",
       "3         00000000003      False\n",
       "4         00000000004      False\n",
       "...               ...        ...\n",
       "9999996   00009999996      False\n",
       "9999997   00009999997      False\n",
       "9999998   00009999998      False\n",
       "9999999   00009999999      False\n",
       "10000000  00010000000      False\n",
       "\n",
       "[10000001 rows x 2 columns]"
      ]
     },
     "execution_count": 19,
     "metadata": {},
     "output_type": "execute_result"
    }
   ],
   "source": [
    "###Pandas DataFrame com o resultado da validação dos CPFs com a função original\n",
    "validador_de_cpf_dt.head(10000001)"
   ]
  },
  {
   "cell_type": "code",
   "execution_count": 20,
   "id": "19167574",
   "metadata": {},
   "outputs": [],
   "source": [
    "###Execução da função para medição de tempo e validação dos CPFs com a função otimizada\n",
    "tempo_validador_de_cpf_otimizado, validador_de_cpf_otimizado_dt = medir_tempo(validador_de_cpf_otimizado, lista_cpfs)"
   ]
  },
  {
   "cell_type": "code",
   "execution_count": 23,
   "id": "d6bcb5e1",
   "metadata": {
    "scrolled": true
   },
   "outputs": [
    {
     "data": {
      "text/html": [
       "<div>\n",
       "<style scoped>\n",
       "    .dataframe tbody tr th:only-of-type {\n",
       "        vertical-align: middle;\n",
       "    }\n",
       "\n",
       "    .dataframe tbody tr th {\n",
       "        vertical-align: top;\n",
       "    }\n",
       "\n",
       "    .dataframe thead th {\n",
       "        text-align: right;\n",
       "    }\n",
       "</style>\n",
       "<table border=\"1\" class=\"dataframe\">\n",
       "  <thead>\n",
       "    <tr style=\"text-align: right;\">\n",
       "      <th></th>\n",
       "      <th>CPF</th>\n",
       "      <th>Validação</th>\n",
       "    </tr>\n",
       "  </thead>\n",
       "  <tbody>\n",
       "    <tr>\n",
       "      <th>0</th>\n",
       "      <td>00000000000</td>\n",
       "      <td>False</td>\n",
       "    </tr>\n",
       "    <tr>\n",
       "      <th>1</th>\n",
       "      <td>00000000001</td>\n",
       "      <td>False</td>\n",
       "    </tr>\n",
       "    <tr>\n",
       "      <th>2</th>\n",
       "      <td>00000000002</td>\n",
       "      <td>False</td>\n",
       "    </tr>\n",
       "    <tr>\n",
       "      <th>3</th>\n",
       "      <td>00000000003</td>\n",
       "      <td>False</td>\n",
       "    </tr>\n",
       "    <tr>\n",
       "      <th>4</th>\n",
       "      <td>00000000004</td>\n",
       "      <td>False</td>\n",
       "    </tr>\n",
       "    <tr>\n",
       "      <th>...</th>\n",
       "      <td>...</td>\n",
       "      <td>...</td>\n",
       "    </tr>\n",
       "    <tr>\n",
       "      <th>9999996</th>\n",
       "      <td>00009999996</td>\n",
       "      <td>False</td>\n",
       "    </tr>\n",
       "    <tr>\n",
       "      <th>9999997</th>\n",
       "      <td>00009999997</td>\n",
       "      <td>False</td>\n",
       "    </tr>\n",
       "    <tr>\n",
       "      <th>9999998</th>\n",
       "      <td>00009999998</td>\n",
       "      <td>False</td>\n",
       "    </tr>\n",
       "    <tr>\n",
       "      <th>9999999</th>\n",
       "      <td>00009999999</td>\n",
       "      <td>False</td>\n",
       "    </tr>\n",
       "    <tr>\n",
       "      <th>10000000</th>\n",
       "      <td>00010000000</td>\n",
       "      <td>False</td>\n",
       "    </tr>\n",
       "  </tbody>\n",
       "</table>\n",
       "<p>10000001 rows × 2 columns</p>\n",
       "</div>"
      ],
      "text/plain": [
       "                  CPF  Validação\n",
       "0         00000000000      False\n",
       "1         00000000001      False\n",
       "2         00000000002      False\n",
       "3         00000000003      False\n",
       "4         00000000004      False\n",
       "...               ...        ...\n",
       "9999996   00009999996      False\n",
       "9999997   00009999997      False\n",
       "9999998   00009999998      False\n",
       "9999999   00009999999      False\n",
       "10000000  00010000000      False\n",
       "\n",
       "[10000001 rows x 2 columns]"
      ]
     },
     "execution_count": 23,
     "metadata": {},
     "output_type": "execute_result"
    }
   ],
   "source": [
    "###Pandas DataFrame com o resultado da validação dos CPFs com a função otimizada\n",
    "validador_de_cpf_otimizado_dt.head(10000001)"
   ]
  },
  {
   "cell_type": "code",
   "execution_count": 24,
   "id": "7dfc5916",
   "metadata": {},
   "outputs": [
    {
     "name": "stdout",
     "output_type": "stream",
     "text": [
      "Resultado da comparação de tempo de execução entre as duas funções\n",
      "Tempo original:  1.7780710921819046e-05\n",
      "Tempo otimizado:  1.552186410180529e-05\n"
     ]
    }
   ],
   "source": [
    "print(\"Resultado da comparação de tempo de execução entre as duas funções\")\n",
    "print(\"Tempo original: \", tempo_validador_de_cpf)\n",
    "print(\"Tempo otimizado: \", tempo_validador_de_cpf_otimizado)"
   ]
  }
 ],
 "metadata": {
  "kernelspec": {
   "display_name": "Python 3 (ipykernel)",
   "language": "python",
   "name": "python3"
  },
  "language_info": {
   "codemirror_mode": {
    "name": "ipython",
    "version": 3
   },
   "file_extension": ".py",
   "mimetype": "text/x-python",
   "name": "python",
   "nbconvert_exporter": "python",
   "pygments_lexer": "ipython3",
   "version": "3.7.9"
  }
 },
 "nbformat": 4,
 "nbformat_minor": 5
}
